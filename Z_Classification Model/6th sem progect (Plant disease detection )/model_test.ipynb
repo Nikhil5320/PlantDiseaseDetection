{
 "cells": [
  {
   "cell_type": "code",
   "execution_count": 1,
   "metadata": {},
   "outputs": [],
   "source": [
    "cls ={\"Apple___Apple_scab\": 0, \"Apple___Black_rot\": 1, \"Apple___Cedar_apple_rust\": 2, \"Apple___healthy\": 3, \"Blueberry___healthy\": 4, \"Cherry_(including_sour)___Powdery_mildew\": 5, \"Cherry_(including_sour)___healthy\": 6, \"Corn_(maize)___Cercospora_leaf_spot Gray_leaf_spot\": 7, \"Corn_(maize)___Common_rust_\": 8, \"Corn_(maize)___Northern_Leaf_Blight\": 9, \"Corn_(maize)___healthy\": 10, \"Grape___Black_rot\": 11, \"Grape___Esca_(Black_Measles)\": 12, \"Grape___Leaf_blight_(Isariopsis_Leaf_Spot)\": 13, \"Grape___healthy\": 14, \"Orange___Haunglongbing_(Citrus_greening)\": 15, \"Peach___Bacterial_spot\": 16, \"Peach___healthy\": 17, \"Pepper,_bell___Bacterial_spot\": 18, \"Pepper,_bell___healthy\": 19, \"Potato___Early_blight\": 20, \"Potato___Late_blight\": 21, \"Potato___healthy\": 22, \"Raspberry___healthy\": 23, \"Soybean___healthy\": 24, \"Squash___Powdery_mildew\": 25, \"Strawberry___Leaf_scorch\": 26, \"Strawberry___healthy\": 27, \"Tomato___Bacterial_spot\": 28, \"Tomato___Early_blight\": 29, \"Tomato___Late_blight\": 30, \"Tomato___Leaf_Mold\": 31, \"Tomato___Septoria_leaf_spot\": 32, \"Tomato___Spider_mites Two-spotted_spider_mite\": 33, \"Tomato___Target_Spot\": 34, \"Tomato___Tomato_Yellow_Leaf_Curl_Virus\": 35, \"Tomato___Tomato_mosaic_virus\": 36, \"Tomato___healthy\": 37}"
   ]
  },
  {
   "cell_type": "code",
   "execution_count": 2,
   "metadata": {},
   "outputs": [],
   "source": [
    "key_list = list(cls.keys())\n",
    "val_list = list(cls.values())"
   ]
  },
  {
   "cell_type": "code",
   "execution_count": 25,
   "metadata": {},
   "outputs": [],
   "source": [
    "pesti = {'Apple___Apple_scab': ['Apple___Apple_scab_pesticide', 247], 'Apple___Black_rot': ['Apple___Black_rot_pesticide', 145], 'Apple___Cedar_apple_rust': ['Apple___Cedar_apple_rust_pesticide', 165], 'Apple___healthy': ['Apple___healthy_pesticide', 121], 'Blueberry___healthy': ['Blueberry___healthy_pesticide', 103], 'Cherry_(including_sour)___Powdery_mildew': ['Cherry_(including_sour)___Powdery_mildew_pesticide', 226], 'Cherry_(including_sour)___healthy': ['Cherry_(including_sour)___healthy_pesticide', 163], 'Corn_(maize)___Cercospora_leaf_spot Gray_leaf_spot': ['Corn_(maize)___Cercospora_leaf_spot Gray_leaf_spot_pesticide', 147], 'Corn_(maize)___Common_rust_': ['Corn_(maize)___Common_rust__pesticide', 205], 'Corn_(maize)___Northern_Leaf_Blight': ['Corn_(maize)___Northern_Leaf_Blight_pesticide', 127], 'Corn_(maize)___healthy': ['Corn_(maize)___healthy_pesticide', 172], 'Grape___Black_rot': ['Grape___Black_rot_pesticide', 230], 'Grape___Esca_(Black_Measles)': ['Grape___Esca_(Black_Measles)_pesticide', 138], 'Grape___Leaf_blight_(Isariopsis_Leaf_Spot)': ['Grape___Leaf_blight_(Isariopsis_Leaf_Spot)_pesticide', 243], 'Grape___healthy': ['Grape___healthy_pesticide', 223], 'Orange___Haunglongbing_(Citrus_greening)': ['Orange___Haunglongbing_(Citrus_greening)_pesticide', 194], 'Peach___Bacterial_spot': ['Peach___Bacterial_spot_pesticide', 220], 'Peach___healthy': ['Peach___healthy_pesticide', 170], 'Pepper,_bell___Bacterial_spot': ['Pepper,_bell___Bacterial_spot_pesticide', 240], 'Pepper,_bell___healthy': ['Pepper,_bell___healthy_pesticide', 213], 'Potato___Early_blight': ['Potato___Early_blight_pesticide', 250], 'Potato___Late_blight': ['Potato___Late_blight_pesticide', 157], 'Potato___healthy': ['Potato___healthy_pesticide', 174], 'Raspberry___healthy': ['Raspberry___healthy_pesticide', 225], 'Soybean___healthy': ['Soybean___healthy_pesticide', 164], 'Squash___Powdery_mildew': ['Squash___Powdery_mildew_pesticide', 100], 'Strawberry___Leaf_scorch': ['Strawberry___Leaf_scorch_pesticide', 100], 'Strawberry___healthy': ['Strawberry___healthy_pesticide', 240], 'Tomato___Bacterial_spot': ['Tomato___Bacterial_spot_pesticide', 184], 'Tomato___Early_blight': ['Tomato___Early_blight_pesticide', 250], 'Tomato___Late_blight': ['Tomato___Late_blight_pesticide', 141], 'Tomato___Leaf_Mold': ['Tomato___Leaf_Mold_pesticide', 182], 'Tomato___Septoria_leaf_spot': ['Tomato___Septoria_leaf_spot_pesticide', 217], 'Tomato___Spider_mites Two-spotted_spider_mite': ['Tomato___Spider_mites Two-spotted_spider_mite_pesticide', 106], 'Tomato___Target_Spot': ['Tomato___Target_Spot_pesticide', 178], 'Tomato___Tomato_Yellow_Leaf_Curl_Virus': ['Tomato___Tomato_Yellow_Leaf_Curl_Virus_pesticide', 152], 'Tomato___Tomato_mosaic_virus': ['Tomato___Tomato_mosaic_virus_pesticide', 237], 'Tomato___healthy': ['Tomato___healthy_pesticide', 241]}"
   ]
  },
  {
   "cell_type": "code",
   "execution_count": 7,
   "metadata": {},
   "outputs": [],
   "source": [
    "import tensorflow as tf\n",
    "from tensorflow import keras\n",
    "\n",
    "import matplotlib.pyplot as plt\n",
    "import numpy as np\n",
    "\n",
    "import os"
   ]
  },
  {
   "cell_type": "code",
   "execution_count": 8,
   "metadata": {},
   "outputs": [],
   "source": [
    "# TensorFlow and tf.keras\n",
    "import tensorflow as tf\n",
    "from tensorflow.keras.applications.resnet50 import preprocess_input, decode_predictions\n",
    "from tensorflow.keras.preprocessing import image\n",
    "# Helper libraries\n",
    "import numpy as np\n",
    "import matplotlib.pyplot as pl"
   ]
  },
  {
   "cell_type": "code",
   "execution_count": 10,
   "metadata": {},
   "outputs": [],
   "source": [
    "from keras.models import load_model\n",
    "\n",
    "\n",
    "model = load_model('plant_disease')"
   ]
  },
  {
   "cell_type": "code",
   "execution_count": 14,
   "metadata": {},
   "outputs": [],
   "source": [
    "import cv2\n",
    "def prepare_image(file):\n",
    "    img = image.load_img(file, target_size=(224, 224))\n",
    "    img_array = image.img_to_array(img)\n",
    "    img_array_expanded_dims = np.expand_dims(img_array, axis=0)\n",
    "    return tf.keras.applications.mobilenet.preprocess_input(img_array_expanded_dims)"
   ]
  },
  {
   "cell_type": "markdown",
   "metadata": {},
   "source": [
    "# Just detecting the disease for a single plant :"
   ]
  },
  {
   "cell_type": "code",
   "execution_count": 27,
   "metadata": {},
   "outputs": [
    {
     "name": "stdout",
     "output_type": "stream",
     "text": [
      "The plant found to be affected by : \n",
      "1 . Grape___Black_rot\n"
     ]
    }
   ],
   "source": [
    "preprocessed_image = prepare_image(r'C:\\Users\\Revanna\\Desktop\\plant disease test_dataset\\testSet\\Grape___Black_rot.jpg')\n",
    "predictions = model.predict(preprocessed_image)\n",
    "\n",
    "prob_dict = cls\n",
    "x=0\n",
    "for i in prob_dict:\n",
    "    prob_dict[i] = predictions[0][x]\n",
    "    x += 1\n",
    "#we'll sort the prob_dict based on their probabilities\n",
    "sorted_dict = {}\n",
    "sorted_keys = sorted(prob_dict, key=prob_dict.get,reverse=True)  # return the list of key values which are sorted based on their values\n",
    "\n",
    "for w in sorted_keys:\n",
    "    sorted_dict[w] = prob_dict[w]\n",
    "\n",
    "print(\"The plant found to be affected by : \")\n",
    "i = 0\n",
    "for d in sorted_dict:\n",
    "    if(sorted_dict[d] >= 0.026):\n",
    "      print(i+1,\".\",d)\n",
    "    i+=1\n",
    "    if(i==4):\n",
    "      break"
   ]
  },
  {
   "cell_type": "markdown",
   "metadata": {},
   "source": [
    "# Detecting + Recommending medicines for a single plant :"
   ]
  },
  {
   "cell_type": "code",
   "execution_count": 45,
   "metadata": {},
   "outputs": [
    {
     "name": "stdout",
     "output_type": "stream",
     "text": [
      "The plant found to be affected by : \n",
      "1 . Potato___healthy\n",
      "---------------------------\n",
      "\n",
      "The recommended medicines for the dectected diseases : \n",
      "1 . Potato___healthy_pesticide : 174 ml/can\n",
      "NOTE : Here can = 20 lit.........\n"
     ]
    }
   ],
   "source": [
    "preprocessed_image = prepare_image(r'C:\\Users\\Revanna\\Desktop\\plant disease test_dataset\\testSet\\Potato___healthy.jpg')\n",
    "predictions = model.predict(preprocessed_image)\n",
    "\n",
    "prob_dict = cls\n",
    "x=0\n",
    "for i in prob_dict:\n",
    "    prob_dict[i] = predictions[0][x]\n",
    "    x += 1\n",
    "#we'll sort the prob_dict based on their probabilities\n",
    "sorted_dict = {}\n",
    "sorted_keys = sorted(prob_dict, key=prob_dict.get,reverse=True)  # return the list of key values which are sorted based on their values\n",
    "\n",
    "for w in sorted_keys:\n",
    "    sorted_dict[w] = prob_dict[w]\n",
    "\n",
    "detected_dis = []\n",
    "print(\"The plant found to be affected by : \")\n",
    "i = 0\n",
    "for d in sorted_dict:\n",
    "    l=[]\n",
    "    if(sorted_dict[d] >= 0.026):\n",
    "      print(i+1,\".\",d)\n",
    "      l.append(d)\n",
    "      l.append(sorted_dict[d])\n",
    "      detected_dis.append(l)\n",
    "    i+=1\n",
    "    if(i==4):\n",
    "      break\n",
    "print(\"---------------------------\\n\")\n",
    "#normalising the probabilities of all the detected diceases\n",
    "total = 0\n",
    "for i in detected_dis:\n",
    "    total = total + i[1]\n",
    "for i in detected_dis:\n",
    "    i[1] = i[1]/total\n",
    "\n",
    "print(\"The recommended medicines for the dectected diseases : \")\n",
    "j=0\n",
    "for i in detected_dis:\n",
    "    print(j+1,\".\",pesti[i[0]][0],\":\",int(pesti[i[0]][1]*i[1]),\"ml/can\")\n",
    "    j+=1\n",
    "    \n",
    "print(\"NOTE : Here can = 20 lit.........\")"
   ]
  },
  {
   "cell_type": "markdown",
   "metadata": {},
   "source": [
    "# Just detecting the disease for the entire crop :"
   ]
  },
  {
   "cell_type": "code",
   "execution_count": 34,
   "metadata": {},
   "outputs": [
    {
     "name": "stdout",
     "output_type": "stream",
     "text": [
      "The plant found to be affected by : \n",
      "1 . Apple___Black_rot ( 54 %)\n",
      "2 . Apple___Cedar_apple_rust ( 22 %)\n",
      "3 . Tomato___Late_blight ( 10 %)\n"
     ]
    }
   ],
   "source": [
    "preprocessed_image1 = prepare_image(r'C:\\Users\\Revanna\\Desktop\\plant disease test_dataset\\archive\\New Plant Diseases Dataset(Augmented)\\New Plant Diseases Dataset(Augmented)\\valid\\Apple___Apple_scab\\0a5e9323-dbad-432d-ac58-d291718345d9___FREC_Scab 3417.jpg')\n",
    "preprocessed_image2 = prepare_image(r'C:\\Users\\Revanna\\Desktop\\plant disease test_dataset\\archive\\New Plant Diseases Dataset(Augmented)\\New Plant Diseases Dataset(Augmented)\\valid\\Apple___Apple_scab\\1a21aabb-6f74-4644-8d9e-a517568b7e9c___FREC_Scab 3095_new30degFlipLR.jpg')\n",
    "preprocessed_image3 = prepare_image(r'C:\\Users\\Revanna\\Desktop\\plant disease test_dataset\\archive\\New Plant Diseases Dataset(Augmented)\\New Plant Diseases Dataset(Augmented)\\valid\\Apple___Apple_scab\\0b1e31fa-cbc0-41ed-9139-c794e6855e82___FREC_Scab 3089_90deg.jpg')\n",
    "preprocessed_image4 = prepare_image(r'C:\\Users\\Revanna\\Desktop\\plant disease test_dataset\\archive\\New Plant Diseases Dataset(Augmented)\\New Plant Diseases Dataset(Augmented)\\valid\\Apple___Apple_scab\\fb942296-ba33-40e5-ada0-6700365cf71d___FREC_Scab 2919_90deg.jpg')\n",
    "predictions1 = model.predict(preprocessed_image1)\n",
    "predictions2 = model.predict(preprocessed_image2)\n",
    "predictions3 = model.predict(preprocessed_image3)\n",
    "predictions4 = model.predict(preprocessed_image4)\n",
    "\n",
    "predictions = np.array(predictions1[0])+np.array(predictions2[0])+np.array(predictions3[0])+np.array(predictions4[0])\n",
    "predictions = predictions/4\n",
    "prob_dict = cls\n",
    "\n",
    "x=0\n",
    "for i in prob_dict:\n",
    "    prob_dict[i] = predictions[x]\n",
    "    x += 1\n",
    "#we'll sort the prob_dict based on their probabilities\n",
    "sorted_dict = {}\n",
    "sorted_keys = sorted(prob_dict, key=prob_dict.get,reverse=True)  # return the list of key values which are sorted based on their values\n",
    "\n",
    "for w in sorted_keys:\n",
    "    sorted_dict[w] = prob_dict[w]\n",
    "\n",
    "print(\"The plant found to be affected by : \")\n",
    "i = 0\n",
    "for d in sorted_dict:\n",
    "    if(sorted_dict[d] > 0.026):\n",
    "      print(i+1,\".\",d,\"(\",int(sorted_dict[d]*100),\"%)\")\n",
    "    i+=1\n",
    "    if(i==4):\n",
    "      break"
   ]
  },
  {
   "cell_type": "markdown",
   "metadata": {},
   "source": [
    "# Detecting + Recommending medicines for the entire crop :"
   ]
  },
  {
   "cell_type": "code",
   "execution_count": 44,
   "metadata": {},
   "outputs": [
    {
     "name": "stdout",
     "output_type": "stream",
     "text": [
      "The plant found to be affected by : \n",
      "1 . Potato___Late_blight\n",
      "2 . Potato___healthy\n",
      "---------------------------\n",
      "\n",
      "The recommended medicines for the dectected diseases : \n",
      "1 . Potato___Late_blight_pesticide : 78 ml/can\n",
      "2 . Potato___healthy_pesticide : 86 ml/can\n",
      "NOTE : Here can = 20 lit......\n"
     ]
    }
   ],
   "source": [
    "preprocessed_image1 = prepare_image(r'C:\\Users\\Revanna\\Desktop\\plant disease test_dataset\\archive\\New Plant Diseases Dataset(Augmented)\\New Plant Diseases Dataset(Augmented)\\valid\\Potato___Late_blight\\2a0727c6-24d9-4d20-89ed-51bbd36a4b5a___RS_LB 2987.jpg')\n",
    "preprocessed_image2 = prepare_image(r'C:\\Users\\Revanna\\Desktop\\plant disease test_dataset\\archive\\New Plant Diseases Dataset(Augmented)\\New Plant Diseases Dataset(Augmented)\\valid\\Potato___Late_blight\\2a0727c6-24d9-4d20-89ed-51bbd36a4b5a___RS_LB 2987.jpg')\n",
    "preprocessed_image3 = prepare_image(r'C:\\Users\\Revanna\\Desktop\\plant disease test_dataset\\archive\\New Plant Diseases Dataset(Augmented)\\New Plant Diseases Dataset(Augmented)\\valid\\Potato___healthy\\0b3e5032-8ae8-49ac-8157-a1cac3df01dd___RS_HL 1817_new90degFlipTB.jpg')\n",
    "preprocessed_image4 = prepare_image(r'C:\\Users\\Revanna\\Desktop\\plant disease test_dataset\\archive\\New Plant Diseases Dataset(Augmented)\\New Plant Diseases Dataset(Augmented)\\valid\\Potato___healthy\\00fc2ee5-729f-4757-8aeb-65c3355874f2___RS_HL 1864_flipLR.jpg')\n",
    "predictions1 = model.predict(preprocessed_image1)\n",
    "predictions2 = model.predict(preprocessed_image2)\n",
    "predictions3 = model.predict(preprocessed_image3)\n",
    "predictions4 = model.predict(preprocessed_image4)\n",
    "\n",
    "predictions = np.array(predictions1[0])+np.array(predictions2[0])+np.array(predictions3[0])+np.array(predictions4[0])\n",
    "predictions = predictions/4\n",
    "prob_dict = cls\n",
    "\n",
    "x=0\n",
    "for i in prob_dict:\n",
    "    prob_dict[i] = predictions[x]\n",
    "    x += 1\n",
    "#we'll sort the prob_dict based on their probabilities\n",
    "sorted_dict = {}\n",
    "sorted_keys = sorted(prob_dict, key=prob_dict.get,reverse=True)  # return the list of key values which are sorted based on their values\n",
    "\n",
    "for w in sorted_keys:\n",
    "    sorted_dict[w] = prob_dict[w]\n",
    "\n",
    "detected_dis = []\n",
    "print(\"The plant found to be affected by : \")\n",
    "i = 0\n",
    "for d in sorted_dict:\n",
    "    l=[]\n",
    "    if(sorted_dict[d] >= 0.026):\n",
    "      print(i+1,\".\",d)\n",
    "      l.append(d)\n",
    "      l.append(sorted_dict[d])\n",
    "      detected_dis.append(l)\n",
    "    i+=1\n",
    "    if(i==4):\n",
    "      break\n",
    "print(\"---------------------------\\n\")\n",
    "#normalising the probabilities of all the detected diceases\n",
    "total = 0\n",
    "for i in detected_dis:\n",
    "    total = total + i[1]\n",
    "for i in detected_dis:\n",
    "    i[1] = i[1]/total\n",
    "\n",
    "print(\"The recommended medicines for the dectected diseases : \")\n",
    "j=0\n",
    "for i in detected_dis:\n",
    "    print(j+1,\".\",pesti[i[0]][0],\":\",int(pesti[i[0]][1]*i[1]),\"ml/can\")\n",
    "    j+=1\n",
    "print(\"NOTE : Here can = 20 lit......\")"
   ]
  },
  {
   "cell_type": "code",
   "execution_count": null,
   "metadata": {},
   "outputs": [],
   "source": []
  }
 ],
 "metadata": {
  "kernelspec": {
   "display_name": "Python 3",
   "language": "python",
   "name": "python3"
  },
  "language_info": {
   "codemirror_mode": {
    "name": "ipython",
    "version": 3
   },
   "file_extension": ".py",
   "mimetype": "text/x-python",
   "name": "python",
   "nbconvert_exporter": "python",
   "pygments_lexer": "ipython3",
   "version": "3.7.10"
  }
 },
 "nbformat": 4,
 "nbformat_minor": 4
}
